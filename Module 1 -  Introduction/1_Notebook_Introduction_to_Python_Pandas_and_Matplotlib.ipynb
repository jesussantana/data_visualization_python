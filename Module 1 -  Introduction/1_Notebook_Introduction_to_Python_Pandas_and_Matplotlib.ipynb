{
 "cells": [
  {
   "cell_type": "markdown",
   "metadata": {},
   "source": [
    "# Session 1 - Introduction to Jupyter Notebooks and Anaconda notebooks"
   ]
  },
  {
   "cell_type": "markdown",
   "metadata": {},
   "source": [
    "This class will focus on the requirements and the installation of all the tools required for this course. Then we will explain basic commands with bash on the Terminal, as well as some first hands-on data wrangling and plot of data with Python and Matplotlib. "
   ]
  },
  {
   "cell_type": "markdown",
   "metadata": {},
   "source": [
    "If you want to run a terminal command in one cell you can do so adding a *!* at the beginning of the cell. For example:"
   ]
  },
  {
   "cell_type": "code",
   "execution_count": 1,
   "metadata": {},
   "outputs": [
    {
     "name": "stdout",
     "output_type": "stream",
     "text": [
      "/home/jesus/IT-Academy/Cursos/Visualization/Module 0 Introduction/data_visualization_python\r\n"
     ]
    }
   ],
   "source": [
    "!pwd"
   ]
  },
  {
   "cell_type": "markdown",
   "metadata": {},
   "source": [
    "The above command `pwd` gives us the current \"working directory\", where `pwd` stands for print working directory. Another example would be:"
   ]
  },
  {
   "cell_type": "code",
   "execution_count": 2,
   "metadata": {},
   "outputs": [
    {
     "name": "stdout",
     "output_type": "stream",
     "text": [
      " 1_Notebook_Introduction_to_Python_Pandas_and_Matplotlib.ipynb\t data\r\n",
      " 2_Basic_Data_exploration_and_plotting.ipynb\t\t\t LICENSE\r\n",
      "'Course Outline.pdf'\t\t\t\t\t\t README.md\r\n"
     ]
    }
   ],
   "source": [
    "!ls"
   ]
  },
  {
   "cell_type": "markdown",
   "metadata": {},
   "source": [
    "This gives us the name of the files in the current working directoy folder. "
   ]
  },
  {
   "cell_type": "markdown",
   "metadata": {},
   "source": [
    "## 1.1 - Current working environments and Kernels"
   ]
  },
  {
   "cell_type": "markdown",
   "metadata": {},
   "source": [
    "First of all, you need to know which environment you are using for your Kernel. The following command allows you to know it:"
   ]
  },
  {
   "cell_type": "code",
   "execution_count": 3,
   "metadata": {},
   "outputs": [
    {
     "name": "stdout",
     "output_type": "stream",
     "text": [
      "# conda environments:\r\n",
      "#\r\n",
      "                         /home/jesus/.local/share/r-miniconda\r\n",
      "                         /home/jesus/.local/share/r-miniconda/envs/r-reticulate\r\n",
      "base                  *  /home/jesus/anaconda3\r\n",
      "pytorch                  /home/jesus/anaconda3/envs/pytorch\r\n",
      "\r\n"
     ]
    }
   ],
   "source": [
    "!conda env list"
   ]
  },
  {
   "cell_type": "markdown",
   "metadata": {},
   "source": [
    "The environment shown with a _*_ is the one that is being used. If this is your first time doing this, it is likely that you have your \"base\" environment being used."
   ]
  },
  {
   "cell_type": "markdown",
   "metadata": {},
   "source": [
    "Then, you if want to list all the packages available in your environment you can do the following:"
   ]
  },
  {
   "cell_type": "code",
   "execution_count": 4,
   "metadata": {},
   "outputs": [
    {
     "name": "stdout",
     "output_type": "stream",
     "text": [
      "# packages in environment at /home/jesus/anaconda3:\r\n",
      "#\r\n",
      "# Name                    Version                   Build  Channel\r\n",
      "_anaconda_depends         2020.07                  py38_0  \r\n",
      "_ipyw_jlab_nb_ext_conf    0.1.0                    py38_0  \r\n",
      "_libgcc_mutex             0.1                        main  \r\n",
      "_openmp_mutex             4.5                       1_gnu  \r\n",
      "absl-py                   0.13.0                   pypi_0    pypi\r\n",
      "alabaster                 0.7.12             pyhd3eb1b0_0  \r\n",
      "anaconda                  custom                   py38_1  \r\n",
      "anaconda-client           1.8.0            py38h06a4308_0  \r\n",
      "anaconda-navigator        2.0.4                    py38_0  \r\n",
      "anaconda-project          0.10.1             pyhd3eb1b0_0  \r\n",
      "anybadge                  1.7.0                    pypi_0    pypi\r\n",
      "anyio                     3.2.1                    pypi_0    pypi\r\n",
      "appdirs                   1.4.4                    pypi_0    pypi\r\n",
      "argh                      0.26.2                   py38_0  \r\n",
      "argon2-cffi               20.1.0           py38h27cfd23_1  \r\n",
      "arrow                     1.1.1                    pypi_0    pypi\r\n",
      "asn1crypto                1.4.0                      py_0  \r\n",
      "astroid                   2.6.5            py38h06a4308_0  \r\n",
      "astropy                   4.2.1            py38h27cfd23_1  \r\n",
      "asttokens                 2.0.5                    pypi_0    pypi\r\n",
      "astunparse                1.6.3                    pypi_0    pypi\r\n",
      "async_generator           1.10               pyhd3eb1b0_0  \r\n",
      "atomicwrites              1.4.0                      py_0  \r\n",
      "attrs                     21.2.0             pyhd3eb1b0_0  \r\n",
      "auto-sklearn              0.12.6                   pypi_0    pypi\r\n",
      "automat                   20.2.0                   pypi_0    pypi\r\n",
      "autopep8                  1.5.5                    pypi_0    pypi\r\n",
      "babel                     2.9.1              pyhd3eb1b0_0  \r\n",
      "backcall                  0.2.0              pyhd3eb1b0_0  \r\n",
      "backports                 1.0                pyhd3eb1b0_2  \r\n",
      "backports-entry-points-selectable 1.1.0                    pypi_0    pypi\r\n",
      "backports.functools_lru_cache 1.6.4              pyhd3eb1b0_0  \r\n",
      "backports.shutil_get_terminal_size 1.0.0              pyhd3eb1b0_3  \r\n",
      "backports.tempfile        1.0                pyhd3eb1b0_1  \r\n",
      "backports.weakref         1.0.post1                  py_1  \r\n",
      "beautifulsoup4            4.9.3              pyha847dfd_0  \r\n",
      "bitarray                  2.2.2                    pypi_0    pypi\r\n",
      "bkcharts                  0.2                      py38_0  \r\n",
      "black                     21.7b0                   pypi_0    pypi\r\n",
      "blas                      1.0                         mkl  \r\n",
      "bleach                    3.3.1              pyhd3eb1b0_0  \r\n",
      "blosc                     1.21.0               h8c45485_0  \r\n",
      "bokeh                     2.3.3            py38h06a4308_0  \r\n",
      "boto                      2.49.0                   py38_0  \r\n",
      "bottleneck                1.3.2            py38heb32a55_1  \r\n",
      "branca                    0.4.2                    pypi_0    pypi\r\n",
      "brotli                    1.0.9                    pypi_0    pypi\r\n",
      "brotlipy                  0.7.0           py38h27cfd23_1003  \r\n",
      "bs4                       0.0.1                    pypi_0    pypi\r\n",
      "bzip2                     1.0.8                h7b6447c_0  \r\n",
      "c-ares                    1.17.1               h27cfd23_0  \r\n",
      "ca-certificates           2021.7.5             h06a4308_1  \r\n",
      "cachetools                4.2.1                    pypi_0    pypi\r\n",
      "cairo                     1.16.0               hf32fb01_1  \r\n",
      "cartopy                   0.19.0.post1             pypi_0    pypi\r\n",
      "category-encoders         2.2.2                    pypi_0    pypi\r\n",
      "certifi                   2021.5.30                pypi_0    pypi\r\n",
      "cffi                      1.14.6           py38h400218f_0  \r\n",
      "chardet                   4.0.0           py38h06a4308_1003  \r\n",
      "charset-normalizer        2.0.4                    pypi_0    pypi\r\n",
      "click                     8.0.1              pyhd3eb1b0_0  \r\n",
      "click-plugins             1.1.1                    pypi_0    pypi\r\n",
      "cligj                     0.7.2                    pypi_0    pypi\r\n",
      "cloudpickle               1.6.0                      py_0  \r\n",
      "clyent                    1.2.2                    py38_1  \r\n",
      "cmdstanpy                 0.9.68                   pypi_0    pypi\r\n",
      "colorama                  0.4.4              pyhd3eb1b0_0  \r\n",
      "conda                     4.10.3           py38h06a4308_0  \r\n",
      "conda-build               3.21.4           py38h06a4308_0  \r\n",
      "conda-content-trust       0.1.1              pyhd3eb1b0_0  \r\n",
      "conda-env                 2.6.0                         1  \r\n",
      "conda-pack                0.6.0              pyhd3eb1b0_0  \r\n",
      "conda-package-handling    1.7.3            py38h27cfd23_1  \r\n",
      "conda-repo-cli            1.0.4              pyhd3eb1b0_0  \r\n",
      "conda-token               0.3.0              pyhd3eb1b0_0  \r\n",
      "conda-verify              3.4.2                      py_1  \r\n",
      "configspace               0.4.19                   pypi_0    pypi\r\n",
      "constantly                15.1.0                   pypi_0    pypi\r\n",
      "contextlib2               21.6.0                   pypi_0    pypi\r\n",
      "convertdate               2.3.2                    pypi_0    pypi\r\n",
      "cookiecutter              1.7.3                    pypi_0    pypi\r\n",
      "cryptography              3.4.7            py38hd23ed53_0  \r\n",
      "cssselect                 1.1.0                    pypi_0    pypi\r\n",
      "curl                      7.71.1               h8f29fe8_2  \r\n",
      "cycler                    0.10.0                   py38_0  \r\n",
      "cython                    0.29.24          py38h295c915_0  \r\n",
      "cytoolz                   0.11.0           py38h7b6447c_0  \r\n",
      "dash                      1.21.0                   pypi_0    pypi\r\n",
      "dash-bootstrap-components 0.12.2                   pypi_0    pypi\r\n",
      "dash-core-components      1.17.1                   pypi_0    pypi\r\n",
      "dash-html-components      1.1.4                    pypi_0    pypi\r\n",
      "dash-renderer             1.9.1                    pypi_0    pypi\r\n",
      "dash-table                4.12.0                   pypi_0    pypi\r\n",
      "dask                      2021.7.0           pyhd3eb1b0_0  \r\n",
      "dask-core                 2021.7.0           pyhd3eb1b0_0  \r\n",
      "dbus                      1.13.18              hb2f20db_0  \r\n",
      "deap                      1.3.1                    pypi_0    pypi\r\n",
      "debugpy                   1.3.0                    pypi_0    pypi\r\n",
      "decorator                 4.4.2                    pypi_0    pypi\r\n",
      "defusedxml                0.7.1              pyhd3eb1b0_0  \r\n",
      "device-detector           0.10                     pypi_0    pypi\r\n",
      "diff-match-patch          20200713                   py_0  \r\n",
      "dill                      0.3.4                    pypi_0    pypi\r\n",
      "distlib                   0.3.2                    pypi_0    pypi\r\n",
      "distributed               2021.7.0         py38h06a4308_0  \r\n",
      "docutils                  0.17.1           py38h06a4308_1  \r\n",
      "dpcpp-cpp-rt              2021.3.0                 pypi_0    pypi\r\n",
      "easydev                   0.11.1                   pypi_0    pypi\r\n",
      "entrypoints               0.3                      py38_0  \r\n",
      "ephem                     4.0.0.2                  pypi_0    pypi\r\n",
      "et-xmlfile                1.1.0                    pypi_0    pypi\r\n",
      "et_xmlfile                1.1.0            py38h06a4308_0  \r\n",
      "expat                     2.4.1                h2531618_2  \r\n",
      "fastcache                 1.1.0            py38h7b6447c_0  \r\n",
      "filelock                  3.0.12             pyhd3eb1b0_1  \r\n",
      "fiona                     1.8.20                   pypi_0    pypi\r\n",
      "flake8                    3.8.4                      py_0  \r\n",
      "flask                     2.0.1                    pypi_0    pypi\r\n",
      "flask-compress            1.10.1                   pypi_0    pypi\r\n",
      "flatbuffers               1.12                     pypi_0    pypi\r\n",
      "folium                    0.12.1                   pypi_0    pypi\r\n",
      "fontconfig                2.13.1               h6c09931_0  \r\n",
      "freetype                  2.10.4               h5ab3b9f_0  \r\n",
      "fribidi                   1.0.10               h7b6447c_0  \r\n",
      "fsspec                    2021.7.0           pyhd3eb1b0_0  \r\n",
      "future                    0.18.2                   py38_1  \r\n",
      "gast                      0.4.0                    pypi_0    pypi\r\n",
      "geographiclib             1.52                     pypi_0    pypi\r\n",
      "geopandas                 0.9.0                    pypi_0    pypi\r\n",
      "geopy                     2.2.0                    pypi_0    pypi\r\n",
      "get_terminal_size         1.0.0                haa9412d_0  \r\n",
      "gevent                    21.1.2           py38h27cfd23_1  \r\n",
      "glib                      2.69.0               h5202010_0  \r\n",
      "glob2                     0.7                pyhd3eb1b0_0  \r\n",
      "gmp                       6.2.1                h2531618_2  \r\n",
      "gmpy2                     2.0.8            py38hd5f6e3b_3  \r\n",
      "google-auth               1.33.1                   pypi_0    pypi\r\n",
      "google-auth-oauthlib      0.4.4                    pypi_0    pypi\r\n",
      "google-pasta              0.2.0                    pypi_0    pypi\r\n",
      "graphite2                 1.3.14               h23475e2_0  \r\n",
      "greenlet                  1.1.0            py38h2531618_0  \r\n",
      "grpcio                    1.34.1                   pypi_0    pypi\r\n",
      "gst-plugins-base          1.14.0               h8213a91_2  \r\n",
      "gstreamer                 1.14.0               h28cd5cc_2  \r\n",
      "h2                        4.0.0                    pypi_0    pypi\r\n",
      "h5py                      3.1.0                    pypi_0    pypi\r\n",
      "harfbuzz                  2.8.1                h6f93f22_0  \r\n",
      "hdf5                      1.10.4               hb1b8bf9_0  \r\n",
      "heapdict                  1.0.1                      py_0  \r\n",
      "helpdev                   0.7.1                    pypi_0    pypi\r\n",
      "hijri-converter           2.1.3                    pypi_0    pypi\r\n",
      "holidays                  0.11.2                   pypi_0    pypi\r\n",
      "hpack                     4.0.0                    pypi_0    pypi\r\n",
      "html5lib                  1.1                        py_0  \r\n",
      "htmlmin                   0.1.12                   pypi_0    pypi\r\n",
      "hyperframe                5.2.0                    pypi_0    pypi\r\n",
      "hyperlink                 21.0.0                   pypi_0    pypi\r\n",
      "ibm-cloud-sdk-core        3.10.1                   pypi_0    pypi\r\n",
      "ibm-watson                5.2.2                    pypi_0    pypi\r\n",
      "icu                       58.2                 he6710b0_3  \r\n",
      "idna                      3.2                      pypi_0    pypi\r\n",
      "imagehash                 4.2.1                    pypi_0    pypi\r\n",
      "imageio                   2.9.0              pyhd3eb1b0_0  \r\n",
      "imageio-ffmpeg            0.4.4                    pypi_0    pypi\r\n",
      "imagesize                 1.2.0              pyhd3eb1b0_0  \r\n",
      "imbalanced-learn          0.8.0                    pypi_0    pypi\r\n",
      "imblearn                  0.0                      pypi_0    pypi\r\n",
      "importlib-metadata        4.6.1                    pypi_0    pypi\r\n",
      "importlib_metadata        3.10.0               hd3eb1b0_0  \r\n",
      "incremental               21.3.0                   pypi_0    pypi\r\n",
      "inflection                0.5.1                    pypi_0    pypi\r\n",
      "iniconfig                 1.1.1              pyhd3eb1b0_0  \r\n",
      "intel-cmplr-lib-rt        2021.3.0                 pypi_0    pypi\r\n",
      "intel-cmplr-lic-rt        2021.3.0                 pypi_0    pypi\r\n",
      "intel-opencl-rt           2021.3.0                 pypi_0    pypi\r\n",
      "intel-openmp              2021.3.0                 pypi_0    pypi\r\n",
      "intervaltree              3.1.0                      py_0  \r\n",
      "ipykernel                 6.0.3                    pypi_0    pypi\r\n",
      "ipython                   7.25.0                   pypi_0    pypi\r\n",
      "ipython_genutils          0.2.0              pyhd3eb1b0_1  \r\n",
      "ipywidgets                7.6.3              pyhd3eb1b0_1  \r\n",
      "isort                     5.9.2              pyhd3eb1b0_0  \r\n",
      "itemadapter               0.2.0                    pypi_0    pypi\r\n",
      "itemloaders               1.0.4                    pypi_0    pypi\r\n",
      "itsdangerous              2.0.1              pyhd3eb1b0_0  \r\n",
      "jbig                      2.1                  hdba287a_0  \r\n",
      "jdcal                     1.4.1                      py_0  \r\n",
      "jedi                      0.17.2           py38h06a4308_1  \r\n",
      "jeepney                   0.7.0                    pypi_0    pypi\r\n",
      "jinja2                    3.0.1                    pypi_0    pypi\r\n",
      "jmespath                  0.10.0                   pypi_0    pypi\r\n",
      "joblib                    1.0.1              pyhd3eb1b0_0  \r\n",
      "jpeg                      9b                   h024ee3a_2  \r\n",
      "json5                     0.9.6              pyhd3eb1b0_0  \r\n",
      "jsonschema                3.2.0                      py_2  \r\n",
      "jupyter                   1.0.0                    py38_7  \r\n",
      "jupyter-packaging         0.7.12             pyhd3eb1b0_0  \r\n",
      "jupyter-server            1.9.0                    pypi_0    pypi\r\n",
      "jupyter-sphinx            0.3.2                    pypi_0    pypi\r\n",
      "jupyter_client            6.1.12             pyhd3eb1b0_0  \r\n",
      "jupyter_console           6.4.0              pyhd3eb1b0_0  \r\n",
      "jupyter_core              4.7.1            py38h06a4308_0  \r\n",
      "jupyter_server            1.4.1            py38h06a4308_0  \r\n",
      "jupyterlab                3.0.16                   pypi_0    pypi\r\n",
      "jupyterlab_pygments       0.1.2                      py_0  \r\n",
      "jupyterlab_server         2.6.1              pyhd3eb1b0_0  \r\n",
      "jupyterlab_widgets        1.0.0              pyhd3eb1b0_1  \r\n",
      "jupyterthemes             0.20.0                   pypi_0    pypi\r\n",
      "keras                     2.4.3                    pypi_0    pypi\r\n",
      "keras-nightly             2.5.0.dev2021032900          pypi_0    pypi\r\n",
      "keras-preprocessing       1.1.2                    pypi_0    pypi\r\n",
      "keyring                   23.0.1           py38h06a4308_0  \r\n",
      "kiwisolver                1.3.1            py38h2531618_0  \r\n",
      "korean-lunar-calendar     0.2.1                    pypi_0    pypi\r\n",
      "krb5                      1.19.2               hac12032_0  \r\n",
      "lazy-import               0.2.2                    pypi_0    pypi\r\n",
      "lazy-object-proxy         1.6.0            py38h27cfd23_0  \r\n",
      "lcms2                     2.12                 h3be6417_0  \r\n",
      "ld_impl_linux-64          2.35.1               h7274673_9  \r\n",
      "lesscpy                   0.15.0                   pypi_0    pypi\r\n",
      "liac-arff                 2.5.0                    pypi_0    pypi\r\n",
      "libarchive                3.4.2                h62408e4_0  \r\n",
      "libarchive-c              3.1                      pypi_0    pypi\r\n",
      "libcurl                   7.71.1               h303737a_2  \r\n",
      "libedit                   3.1.20210216         h27cfd23_1  \r\n",
      "libev                     4.33                 h7b6447c_0  \r\n",
      "libffi                    3.3                  he6710b0_2  \r\n",
      "libgcc-ng                 9.3.0               h5101ec6_17  \r\n",
      "libgfortran-ng            7.5.0               ha8ba4b0_17  \r\n",
      "libgfortran4              7.5.0               ha8ba4b0_17  \r\n",
      "libgomp                   9.3.0               h5101ec6_17  \r\n",
      "liblief                   0.10.1               he6710b0_0  \r\n",
      "libllvm10                 10.0.1               hbcb73fb_5  \r\n",
      "libllvm9                  9.0.1                h4a3c616_1  \r\n",
      "libpng                    1.6.37               hbc83047_0  \r\n",
      "libsodium                 1.0.18               h7b6447c_0  \r\n",
      "libspatialindex           1.9.3                h2531618_0  \r\n",
      "libssh2                   1.9.0                h1ba5d50_1  \r\n",
      "libstdcxx-ng              9.3.0               hd4cf53a_17  \r\n",
      "libtiff                   4.2.0                h85742a9_0  \r\n",
      "libtool                   2.4.6             h7b6447c_1005  \r\n",
      "libuuid                   1.0.3                h1bed415_2  \r\n",
      "libuv                     1.40.0               h7b6447c_0  \r\n",
      "libwebp-base              1.2.0                h27cfd23_0  \r\n",
      "libxcb                    1.14                 h7b6447c_0  \r\n",
      "libxml2                   2.9.12               h03d6c58_0  \r\n",
      "libxslt                   1.1.34               hc22bd24_0  \r\n",
      "lightgbm                  3.2.1                    pypi_0    pypi\r\n",
      "llvmlite                  0.36.0           py38h612dafd_4  \r\n",
      "locket                    0.2.1            py38h06a4308_1  \r\n",
      "lunarcalendar             0.0.9                    pypi_0    pypi\r\n",
      "lxml                      4.6.3            py38h9120a33_0  \r\n",
      "lz4-c                     1.9.3                h2531618_0  \r\n",
      "lzo                       2.10                 h7b6447c_2  \r\n",
      "mako                      1.1.4                    pypi_0    pypi\r\n",
      "markdown                  3.3.4                    pypi_0    pypi\r\n",
      "markupsafe                2.0.1            py38h27cfd23_0  \r\n",
      "matplotlib                3.4.2                    pypi_0    pypi\r\n",
      "matplotlib-base           3.3.4            py38h62a2d02_0  \r\n",
      "matplotlib-inline         0.1.2                    pypi_0    pypi\r\n",
      "matrixprofile             1.1.10                   pypi_0    pypi\r\n",
      "mccabe                    0.6.1                    py38_1  \r\n",
      "mglearn                   0.1.9                    pypi_0    pypi\r\n",
      "mido                      1.2.10                   pypi_0    pypi\r\n",
      "missingno                 0.5.0                    pypi_0    pypi\r\n",
      "mistune                   0.8.4           py38h7b6447c_1000  \r\n",
      "mkl                       2021.3.0                 pypi_0    pypi\r\n",
      "mkl-fft                   1.3.0                    pypi_0    pypi\r\n",
      "mkl-service               2.4.0                    pypi_0    pypi\r\n",
      "mkl_fft                   1.3.0            py38h42c9631_2  \r\n",
      "mkl_random                1.2.2            py38h51133e4_0  \r\n",
      "mock                      4.0.3              pyhd3eb1b0_0  \r\n",
      "more-itertools            8.8.0              pyhd3eb1b0_0  \r\n",
      "moviepy                   1.0.3                    pypi_0    pypi\r\n",
      "mpc                       1.1.0                h10f8cd9_1  \r\n",
      "mpfr                      4.0.2                hb69a4c5_1  \r\n",
      "mplfinance                0.12.7a17                pypi_0    pypi\r\n",
      "mpmath                    1.2.1            py38h06a4308_0  \r\n",
      "msgpack-python            1.0.2            py38hff7bd54_1  \r\n",
      "multimethod               1.4                      pypi_0    pypi\r\n",
      "multipledispatch          0.6.0                    py38_0  \r\n",
      "munch                     2.5.0                    pypi_0    pypi\r\n",
      "music21                   5.7.2                    pypi_0    pypi\r\n",
      "mypy                      0.910                    pypi_0    pypi\r\n",
      "mypy-extensions           0.4.3                    pypi_0    pypi\r\n",
      "mypy_extensions           0.4.3                    py38_0  \r\n",
      "mysql-connector-python    8.0.26                   pypi_0    pypi\r\n",
      "navigator-updater         0.2.1                    py38_0  \r\n",
      "nbclassic                 0.3.1                    pypi_0    pypi\r\n",
      "nbclient                  0.5.3              pyhd3eb1b0_0  \r\n",
      "nbconvert                 6.1.0            py38h06a4308_0  \r\n",
      "nbformat                  5.1.3              pyhd3eb1b0_0  \r\n",
      "ncurses                   6.2                  he6710b0_1  \r\n",
      "nest-asyncio              1.5.1              pyhd3eb1b0_0  \r\n",
      "networkx                  2.5.1                    pypi_0    pypi\r\n",
      "nltk                      3.6.2              pyhd3eb1b0_0  \r\n",
      "nose                      1.3.7           pyhd3eb1b0_1006  \r\n",
      "notebook                  6.4.0            py38h06a4308_0  \r\n",
      "numba                     0.53.1           py38ha9443f7_0  \r\n",
      "numexpr                   2.7.3            py38h22e1b3c_1  \r\n",
      "numpy                     1.21.1                   pypi_0    pypi\r\n",
      "numpydoc                  1.1.0              pyhd3eb1b0_1  \r\n",
      "oauthlib                  3.1.1                    pypi_0    pypi\r\n",
      "olefile                   0.46                       py_0  \r\n",
      "opencv-python             4.5.3.56                 pypi_0    pypi\r\n",
      "openjpeg                  2.3.0                h05c96fa_1  \r\n",
      "openpyxl                  3.0.7              pyhd3eb1b0_0  \r\n",
      "openssl                   1.1.1k               h27cfd23_0  \r\n",
      "opt-einsum                3.3.0                    pypi_0    pypi\r\n",
      "packaging                 21.0               pyhd3eb1b0_0  \r\n",
      "pandas                    1.3.0                    pypi_0    pypi\r\n",
      "pandas-profiling          3.0.0                    pypi_0    pypi\r\n",
      "pandoc                    2.12                 h06a4308_0  \r\n",
      "pandocfilters             1.4.3            py38h06a4308_1  \r\n",
      "pango                     1.45.3               hd140c19_0  \r\n",
      "parsel                    1.6.0                    pypi_0    pypi\r\n",
      "parso                     0.7.0                      py_0  \r\n",
      "partd                     1.2.0              pyhd3eb1b0_0  \r\n",
      "patchelf                  0.12                 h2531618_1  \r\n",
      "path                      16.0.0           py38h06a4308_0  \r\n",
      "path.py                   12.5.0                        0  \r\n",
      "pathlib2                  2.3.6            py38h06a4308_2  \r\n",
      "pathspec                  0.9.0                    pypi_0    pypi\r\n",
      "pathtools                 0.1.2                      py_1  \r\n",
      "patsy                     0.5.1                    py38_0  \r\n",
      "pbr                       5.6.0                    pypi_0    pypi\r\n",
      "pcre                      8.45                 h295c915_0  \r\n",
      "pep8                      1.7.1                    py38_0  \r\n",
      "pexpect                   4.8.0              pyhd3eb1b0_3  \r\n",
      "phik                      0.12.0                   pypi_0    pypi\r\n",
      "pi                        0.1.2                    pypi_0    pypi\r\n",
      "pickleshare               0.7.5           pyhd3eb1b0_1003  \r\n",
      "pillow                    8.3.1            py38h2c7a002_0  \r\n",
      "pip                       21.3                     pypi_0    pypi\r\n",
      "pixman                    0.40.0               h7b6447c_0  \r\n",
      "pkginfo                   1.7.1                    pypi_0    pypi\r\n",
      "platformdirs              2.0.2                    pypi_0    pypi\r\n",
      "plotly                    5.1.0              pyhd3eb1b0_0  \r\n",
      "plotly-orca               1.3.1                         1    plotly\r\n",
      "pluggy                    0.13.1           py38h06a4308_0  \r\n",
      "ply                       3.11                     py38_0  \r\n",
      "pretty-midi               0.2.9                    pypi_0    pypi\r\n",
      "priority                  2.0.0                    pypi_0    pypi\r\n",
      "proglog                   0.1.9                    pypi_0    pypi\r\n",
      "prometheus_client         0.11.0             pyhd3eb1b0_0  \r\n",
      "prompt-toolkit            3.0.19                   pypi_0    pypi\r\n",
      "prompt_toolkit            3.0.17               hd3eb1b0_0  \r\n",
      "prophet                   1.0.1                    pypi_0    pypi\r\n",
      "protego                   0.1.16                   pypi_0    pypi\r\n",
      "protobuf                  3.17.3                   pypi_0    pypi\r\n",
      "psutil                    5.8.0            py38h27cfd23_1  \r\n",
      "ptyprocess                0.7.0              pyhd3eb1b0_2  \r\n",
      "py                        1.10.0             pyhd3eb1b0_0  \r\n",
      "py-lief                   0.10.1           py38h403a769_0  \r\n",
      "pyasn1                    0.4.8                    pypi_0    pypi\r\n",
      "pyasn1-modules            0.2.8                    pypi_0    pypi\r\n",
      "pybadges                  2.2.1                    pypi_0    pypi\r\n",
      "pycodestyle               2.6.0              pyhd3eb1b0_0  \r\n",
      "pycosat                   0.6.3            py38h7b6447c_1  \r\n",
      "pycountry                 20.7.3                   pypi_0    pypi\r\n",
      "pycparser                 2.20                       py_2  \r\n",
      "pycurl                    7.43.0.6         py38h1ba5d50_0  \r\n",
      "pydantic                  1.8.2                    pypi_0    pypi\r\n",
      "pydispatcher              2.0.5                    pypi_0    pypi\r\n",
      "pydocstyle                6.1.1              pyhd3eb1b0_0  \r\n",
      "pyerfa                    2.0.0            py38h27cfd23_0  \r\n",
      "pyflakes                  2.2.0              pyhd3eb1b0_0  \r\n",
      "pyforest                  1.1.0                    pypi_0    pypi\r\n",
      "pygments                  2.9.0              pyhd3eb1b0_0  \r\n",
      "pyjwt                     2.1.0                    pypi_0    pypi\r\n",
      "pylint                    2.9.5                    pypi_0    pypi\r\n",
      "pyls-black                0.4.7                    pypi_0    pypi\r\n",
      "pyls-spyder               0.3.2              pyhd3eb1b0_0  \r\n",
      "pymeeus                   0.5.11                   pypi_0    pypi\r\n",
      "pymongo                   3.11.4                   pypi_0    pypi\r\n",
      "pynisher                  0.6.4                    pypi_0    pypi\r\n",
      "pyodbc                    4.0.31                   pypi_0    pypi\r\n",
      "pyopenssl                 20.0.1             pyhd3eb1b0_1  \r\n",
      "pyparsing                 2.4.7              pyhd3eb1b0_0  \r\n",
      "pypianoroll               0.5.3                    pypi_0    pypi\r\n",
      "pyproj                    3.1.0                    pypi_0    pypi\r\n",
      "pyqt                      5.9.2            py38h05f1152_4  \r\n",
      "pyqt5                     5.12.3                   pypi_0    pypi\r\n",
      "pyqt5-qt5                 5.15.2                   pypi_0    pypi\r\n",
      "pyqt5-sip                 12.9.0                   pypi_0    pypi\r\n",
      "pyqtwebengine             5.12.1                   pypi_0    pypi\r\n",
      "pyqtwebengine-qt5         5.15.2                   pypi_0    pypi\r\n",
      "pyrfr                     0.8.2                    pypi_0    pypi\r\n",
      "pyrsistent                0.18.0                   pypi_0    pypi\r\n",
      "pyserial                  3.5                      pypi_0    pypi\r\n",
      "pysocks                   1.7.1            py38h06a4308_0  \r\n",
      "pystan                    2.19.1.1                 pypi_0    pypi\r\n",
      "pytables                  3.6.1            py38h9fd0a39_0  \r\n",
      "pytest                    6.2.4                    pypi_0    pypi\r\n",
      "python                    3.8.10               h12debd9_8  \r\n",
      "python-dateutil           2.8.2              pyhd3eb1b0_0  \r\n",
      "python-dotenv             0.17.1                   pypi_0    pypi\r\n",
      "python-jsonrpc-server     0.4.0                      py_0  \r\n",
      "python-language-server    0.36.2             pyhd3eb1b0_0  \r\n",
      "python-libarchive-c       2.9                pyhd3eb1b0_1  \r\n",
      "python-settings           0.2.2                    pypi_0    pypi\r\n",
      "python-slugify            5.0.2                    pypi_0    pypi\r\n",
      "pytz                      2021.1             pyhd3eb1b0_0  \r\n",
      "pywavelets                1.1.1            py38h7b6447c_2  \r\n",
      "pyxdg                     0.27               pyhd3eb1b0_0  \r\n",
      "pyyaml                    5.4.1            py38h27cfd23_1  \r\n",
      "pyzmq                     22.1.0                   pypi_0    pypi\r\n",
      "qdarkstyle                3.0.2                    pypi_0    pypi\r\n",
      "qstylizer                 0.2.0                    pypi_0    pypi\r\n",
      "qt                        5.9.7                h5867ecd_1  \r\n",
      "qtawesome                 1.0.3                    pypi_0    pypi\r\n",
      "qtconsole                 5.1.1                    pypi_0    pypi\r\n",
      "qtpy                      1.9.0                      py_0  \r\n",
      "queuelib                  1.6.1                    pypi_0    pypi\r\n",
      "readline                  8.1                  h27cfd23_0  \r\n",
      "regex                     2021.7.6         py38h7f8727e_0  \r\n",
      "requests                  2.26.0                   pypi_0    pypi\r\n",
      "requests-oauthlib         1.3.0                    pypi_0    pypi\r\n",
      "requests-unixsocket       0.2.0                    pypi_0    pypi\r\n",
      "researchpy                0.2.3                    pypi_0    pypi\r\n",
      "ripgrep                   12.1.1                        0  \r\n",
      "rope                      0.19.0             pyhd3eb1b0_0  \r\n",
      "rsa                       4.7.2                    pypi_0    pypi\r\n",
      "rtree                     0.9.7            py38h06a4308_1  \r\n",
      "ruamel-yaml-clib          0.2.6                    pypi_0    pypi\r\n",
      "ruamel_yaml               0.15.100         py38h27cfd23_0  \r\n",
      "scikit-image              0.18.2                   pypi_0    pypi\r\n",
      "scikit-learn              0.24.0                   pypi_0    pypi\r\n",
      "scipy                     1.6.3                    pypi_0    pypi\r\n",
      "scrapy                    2.5.0                    pypi_0    pypi\r\n",
      "seaborn                   0.11.1             pyhd3eb1b0_0  \r\n",
      "secretstorage             3.3.1            py38h06a4308_0  \r\n",
      "send2trash                1.7.1                    pypi_0    pypi\r\n",
      "service-identity          21.1.0                   pypi_0    pypi\r\n",
      "setuptools                57.4.0                   pypi_0    pypi\r\n",
      "setuptools-git            1.2                      pypi_0    pypi\r\n",
      "simplegeneric             0.8.1                    py38_2  \r\n",
      "singledispatch            3.6.2                    pypi_0    pypi\r\n",
      "sip                       6.1.1                    pypi_0    pypi\r\n",
      "six                       1.15.0           py38h06a4308_0  \r\n",
      "skforecast                0.1.8.1                  pypi_0    pypi\r\n",
      "smac                      0.13.1                   pypi_0    pypi\r\n",
      "snappy                    1.1.8                he6710b0_0  \r\n",
      "sniffio                   1.2.0            py38h06a4308_1  \r\n",
      "snowballstemmer           2.1.0              pyhd3eb1b0_0  \r\n",
      "sort-dataframeby-monthorweek 0.4                      pypi_0    pypi\r\n",
      "sorted-months-weekdays    0.2                      pypi_0    pypi\r\n",
      "sortedcollections         2.1.0              pyhd3eb1b0_0  \r\n",
      "sortedcontainers          2.4.0              pyhd3eb1b0_0  \r\n",
      "soupsieve                 2.2.1              pyhd3eb1b0_0  \r\n",
      "sphinx                    4.1.1                    pypi_0    pypi\r\n",
      "sphinxcontrib             1.0                      py38_1  \r\n",
      "sphinxcontrib-applehelp   1.0.2              pyhd3eb1b0_0  \r\n",
      "sphinxcontrib-devhelp     1.0.2              pyhd3eb1b0_0  \r\n",
      "sphinxcontrib-htmlhelp    2.0.0              pyhd3eb1b0_0  \r\n",
      "sphinxcontrib-jsmath      1.0.1              pyhd3eb1b0_0  \r\n",
      "sphinxcontrib-qthelp      1.0.3              pyhd3eb1b0_0  \r\n",
      "sphinxcontrib-serializinghtml 1.1.5              pyhd3eb1b0_0  \r\n",
      "sphinxcontrib-websupport  1.2.4                      py_0  \r\n",
      "spyder                    5.0.5                    pypi_0    pypi\r\n",
      "spyder-kernels            2.0.5                    pypi_0    pypi\r\n",
      "sqlalchemy                1.4.21                   pypi_0    pypi\r\n",
      "sqlite                    3.36.0               hc218d9a_0  \r\n",
      "statsmodels               0.13.0.dev0+327.g711eedb03          pypi_0    pypi\r\n",
      "stevedore                 3.3.0                    pypi_0    pypi\r\n",
      "stopit                    1.1.2                    pypi_0    pypi\r\n",
      "stumpy                    1.9.1                    pypi_0    pypi\r\n",
      "sympy                     1.8              py38h06a4308_0  \r\n",
      "tabulate                  0.8.9                    pypi_0    pypi\r\n",
      "tangled-up-in-unicode     0.1.0                    pypi_0    pypi\r\n",
      "tbb                       2021.3.0                 pypi_0    pypi\r\n",
      "tblib                     1.7.0                      py_0  \r\n",
      "tenacity                  8.0.1                    pypi_0    pypi\r\n",
      "tensorboard               2.5.0                    pypi_0    pypi\r\n",
      "tensorboard-data-server   0.6.1                    pypi_0    pypi\r\n",
      "tensorboard-plugin-wit    1.8.0                    pypi_0    pypi\r\n",
      "tensorflow                2.5.0                    pypi_0    pypi\r\n",
      "tensorflow-estimator      2.5.0                    pypi_0    pypi\r\n",
      "termcolor                 1.1.0                    pypi_0    pypi\r\n",
      "terminado                 0.10.1                   pypi_0    pypi\r\n",
      "testpath                  0.5.0              pyhd3eb1b0_0  \r\n",
      "textdistance              4.2.1              pyhd3eb1b0_0  \r\n",
      "texttable                 1.6.2                    pypi_0    pypi\r\n",
      "theano                    1.0.5                    pypi_0    pypi\r\n",
      "thonny                    3.3.11                   pypi_0    pypi\r\n",
      "threadpoolctl             2.2.0              pyhb85f177_0  \r\n",
      "three-merge               0.1.1              pyhd3eb1b0_0  \r\n",
      "tifffile                  2021.7.2                 pypi_0    pypi\r\n",
      "tinycss2                  1.1.0                    pypi_0    pypi\r\n",
      "tk                        8.6.10               hbc83047_0  \r\n",
      "toml                      0.10.2             pyhd3eb1b0_0  \r\n",
      "tomli                     1.0.4                    pypi_0    pypi\r\n",
      "toolz                     0.11.1             pyhd3eb1b0_0  \r\n",
      "torch                     1.9.0                    pypi_0    pypi\r\n",
      "torchtext                 0.10.0                   pypi_0    pypi\r\n",
      "torchvision               0.10.0                   pypi_0    pypi\r\n",
      "tornado                   6.1              py38h27cfd23_0  \r\n",
      "tqdm                      4.62.0                   pypi_0    pypi\r\n",
      "traitlets                 5.0.5              pyhd3eb1b0_0  \r\n",
      "tsfresh                   0.18.0                   pypi_0    pypi\r\n",
      "twisted                   21.2.0                   pypi_0    pypi\r\n",
      "typed-ast                 1.4.3            py38h7f8727e_1  \r\n",
      "typing_extensions         3.10.0.0           pyh06a4308_0  \r\n",
      "ujson                     4.0.2            py38h2531618_0  \r\n",
      "unicodecsv                0.14.1                   py38_0  \r\n",
      "unixodbc                  2.3.9                h7b6447c_0  \r\n",
      "update-checker            0.18.0                   pypi_0    pypi\r\n",
      "urllib3                   1.26.6             pyhd3eb1b0_1  \r\n",
      "virtualenv                20.6.0                   pypi_0    pypi\r\n",
      "virtualenv-clone          0.5.5                    pypi_0    pypi\r\n",
      "virtualenvwrapper         4.8.4                    pypi_0    pypi\r\n",
      "visions                   0.7.1                    pypi_0    pypi\r\n",
      "w3lib                     1.22.0                   pypi_0    pypi\r\n",
      "watchdog                  1.0.2            py38h06a4308_1  \r\n",
      "wcwidth                   0.2.5                      py_0  \r\n",
      "webcolors                 1.11.1                   pypi_0    pypi\r\n",
      "webencodings              0.5.1                    py38_1  \r\n",
      "websocket-client          1.1.0                    pypi_0    pypi\r\n",
      "werkzeug                  2.0.1                    pypi_0    pypi\r\n",
      "wget                      3.2                      pypi_0    pypi\r\n",
      "wheel                     0.36.2                   pypi_0    pypi\r\n",
      "widgetsnbextension        3.5.1                    py38_0  \r\n",
      "wordcloud                 1.8.1                    pypi_0    pypi\r\n",
      "wrapt                     1.12.1           py38h7b6447c_1  \r\n",
      "wurlitzer                 2.1.1            py38h06a4308_0  \r\n",
      "xgboost                   1.4.2                    pypi_0    pypi\r\n",
      "xlrd                      2.0.1              pyhd3eb1b0_0  \r\n",
      "xlsxwriter                1.4.4              pyhd3eb1b0_0  \r\n",
      "xlwt                      1.3.0                    py38_0  \r\n",
      "xmltodict                 0.12.0                     py_0  \r\n",
      "xz                        5.2.5                h7b6447c_0  \r\n",
      "yaml                      0.2.5                h7b6447c_0  \r\n",
      "yapf                      0.31.0             pyhd3eb1b0_0  \r\n",
      "zeromq                    4.3.4                h2531618_0  \r\n",
      "zict                      2.0.0              pyhd3eb1b0_0  \r\n",
      "zipp                      3.5.0              pyhd3eb1b0_0  \r\n",
      "zlib                      1.2.11               h7b6447c_3  \r\n",
      "zope                      1.0                      py38_1  \r\n",
      "zope.event                4.5.0                    py38_0  \r\n",
      "zope.interface            5.4.0            py38h7f8727e_0  \r\n",
      "zstd                      1.4.9                haebb681_0  \r\n"
     ]
    }
   ],
   "source": [
    "!conda list"
   ]
  },
  {
   "cell_type": "markdown",
   "metadata": {},
   "source": [
    "This will show you all the packages and the version installed, as well as the Channels where they come from. It is recommendable that you either stick to using Anaconda channels or do it with `pip install nameofpackage`. Always check if the package is on pip first."
   ]
  },
  {
   "cell_type": "markdown",
   "metadata": {},
   "source": [
    "When dealing with various environments, projects, or different versions of packages, you will most likely run into clashes of packages. Thus, it is always a safe bet to create a new environment for a new project, as it will be wiser if you have one environment per project. "
   ]
  },
  {
   "cell_type": "markdown",
   "metadata": {},
   "source": [
    "----"
   ]
  },
  {
   "cell_type": "markdown",
   "metadata": {},
   "source": [
    "## 1.2 - Ensure the packages are properly installed and load them"
   ]
  },
  {
   "cell_type": "markdown",
   "metadata": {},
   "source": [
    "Now that we know which packages are installed, we need to check that the following 4 packages are installed (we will use them throughout this course):\n",
    "\n",
    "- Pandas\n",
    "- Numpy\n",
    "- Matplotlib\n",
    "- Plotly\n",
    "- Dash\n",
    "- Geopandas"
   ]
  },
  {
   "cell_type": "markdown",
   "metadata": {},
   "source": [
    "When you run `!conda list`, if you see that you have all the above mentioned packages listed, then you are ready to start processing data! "
   ]
  },
  {
   "cell_type": "markdown",
   "metadata": {},
   "source": [
    "Now that the packages are installed in our environment and Kernel is ready we can import them doing the following:"
   ]
  },
  {
   "cell_type": "code",
   "execution_count": 5,
   "metadata": {},
   "outputs": [],
   "source": [
    "import pandas as pd"
   ]
  },
  {
   "cell_type": "markdown",
   "metadata": {},
   "source": [
    "Then we can use any function or module from the *pandas* package. However, when we do that, we are importing all the functions at once, not even knowing what we are loading. Hence, it is a good practice and a good programming tip to only import the functions or objects desired. For example, if I want to import the `read_csv` function I can do it as follows:"
   ]
  },
  {
   "cell_type": "code",
   "execution_count": 6,
   "metadata": {},
   "outputs": [],
   "source": [
    "from pandas import read_csv"
   ]
  },
  {
   "cell_type": "markdown",
   "metadata": {},
   "source": [
    "In this way, my code is much cleaner and easier to follow. In addition, we avoid to load unnecessary functions and modules that won't be used in our code. "
   ]
  },
  {
   "cell_type": "markdown",
   "metadata": {},
   "source": [
    "Also, a very nice tip is to always use the `tab` from you keyboard, as it will help you finding the name of the functions or modules you are looking for!"
   ]
  },
  {
   "cell_type": "markdown",
   "metadata": {},
   "source": [
    "## 1.3 - Get in touch with pandas Series and DataFrames"
   ]
  },
  {
   "cell_type": "markdown",
   "metadata": {},
   "source": [
    "A *pandas* Series is a vector with an index. Let's create a simple vector using the `range` function, that will go from 1 to 100. To make it easier to understand, we will first do it step by step. First, we create the range from 1 to 100."
   ]
  },
  {
   "cell_type": "code",
   "execution_count": 7,
   "metadata": {},
   "outputs": [
    {
     "data": {
      "text/plain": [
       "range(1, 100)"
      ]
     },
     "execution_count": 7,
     "metadata": {},
     "output_type": "execute_result"
    }
   ],
   "source": [
    "range(1, 100)"
   ]
  },
  {
   "cell_type": "markdown",
   "metadata": {},
   "source": [
    "Now that we have a range, notice that is yet not a list, it is a range of integers. To make it a list we can do it in the following manner:"
   ]
  },
  {
   "cell_type": "code",
   "execution_count": 8,
   "metadata": {
    "scrolled": true
   },
   "outputs": [
    {
     "data": {
      "text/plain": [
       "[1,\n",
       " 2,\n",
       " 3,\n",
       " 4,\n",
       " 5,\n",
       " 6,\n",
       " 7,\n",
       " 8,\n",
       " 9,\n",
       " 10,\n",
       " 11,\n",
       " 12,\n",
       " 13,\n",
       " 14,\n",
       " 15,\n",
       " 16,\n",
       " 17,\n",
       " 18,\n",
       " 19,\n",
       " 20,\n",
       " 21,\n",
       " 22,\n",
       " 23,\n",
       " 24,\n",
       " 25,\n",
       " 26,\n",
       " 27,\n",
       " 28,\n",
       " 29,\n",
       " 30,\n",
       " 31,\n",
       " 32,\n",
       " 33,\n",
       " 34,\n",
       " 35,\n",
       " 36,\n",
       " 37,\n",
       " 38,\n",
       " 39,\n",
       " 40,\n",
       " 41,\n",
       " 42,\n",
       " 43,\n",
       " 44,\n",
       " 45,\n",
       " 46,\n",
       " 47,\n",
       " 48,\n",
       " 49,\n",
       " 50,\n",
       " 51,\n",
       " 52,\n",
       " 53,\n",
       " 54,\n",
       " 55,\n",
       " 56,\n",
       " 57,\n",
       " 58,\n",
       " 59,\n",
       " 60,\n",
       " 61,\n",
       " 62,\n",
       " 63,\n",
       " 64,\n",
       " 65,\n",
       " 66,\n",
       " 67,\n",
       " 68,\n",
       " 69,\n",
       " 70,\n",
       " 71,\n",
       " 72,\n",
       " 73,\n",
       " 74,\n",
       " 75,\n",
       " 76,\n",
       " 77,\n",
       " 78,\n",
       " 79,\n",
       " 80,\n",
       " 81,\n",
       " 82,\n",
       " 83,\n",
       " 84,\n",
       " 85,\n",
       " 86,\n",
       " 87,\n",
       " 88,\n",
       " 89,\n",
       " 90,\n",
       " 91,\n",
       " 92,\n",
       " 93,\n",
       " 94,\n",
       " 95,\n",
       " 96,\n",
       " 97,\n",
       " 98,\n",
       " 99]"
      ]
     },
     "execution_count": 8,
     "metadata": {},
     "output_type": "execute_result"
    }
   ],
   "source": [
    "list(range(1, 100))"
   ]
  },
  {
   "cell_type": "markdown",
   "metadata": {},
   "source": [
    "However, since we are interested in creating a *pandas* series, we do it as follows. First, we import the *Series* module from pandas. Then we pass the range that we created before."
   ]
  },
  {
   "cell_type": "code",
   "execution_count": 9,
   "metadata": {},
   "outputs": [
    {
     "data": {
      "text/plain": [
       "0      1\n",
       "1      2\n",
       "2      3\n",
       "3      4\n",
       "4      5\n",
       "      ..\n",
       "94    95\n",
       "95    96\n",
       "96    97\n",
       "97    98\n",
       "98    99\n",
       "Length: 99, dtype: int64"
      ]
     },
     "execution_count": 9,
     "metadata": {},
     "output_type": "execute_result"
    }
   ],
   "source": [
    "from pandas import Series\n",
    "\n",
    "Series(range(1, 100))"
   ]
  },
  {
   "cell_type": "markdown",
   "metadata": {},
   "source": [
    "Now notice a few things, first of all, there are two columns there, and we just added a range? Why is that?"
   ]
  },
  {
   "cell_type": "markdown",
   "metadata": {},
   "source": [
    "Because *pandas* Series always have an index. Then, we can notice that the index starts at 0, even if we didn't specify it, and finishes as 98. Ranges and counts start at 0 in python! Now let's assign that into a variable called our_first_series."
   ]
  },
  {
   "cell_type": "code",
   "execution_count": 10,
   "metadata": {},
   "outputs": [],
   "source": [
    "our_first_series = Series(range(1, 100))"
   ]
  },
  {
   "cell_type": "markdown",
   "metadata": {},
   "source": [
    "Now that we have it stored in a variable we can use the many functionalities that Series provides us. For example, we can compute the mean of the series:"
   ]
  },
  {
   "cell_type": "code",
   "execution_count": 11,
   "metadata": {},
   "outputs": [
    {
     "data": {
      "text/plain": [
       "50.0"
      ]
     },
     "execution_count": 11,
     "metadata": {},
     "output_type": "execute_result"
    }
   ],
   "source": [
    "our_first_series.mean()"
   ]
  },
  {
   "cell_type": "markdown",
   "metadata": {},
   "source": [
    "We can also access the index of that series:"
   ]
  },
  {
   "cell_type": "code",
   "execution_count": 12,
   "metadata": {},
   "outputs": [
    {
     "data": {
      "text/plain": [
       "RangeIndex(start=0, stop=99, step=1)"
      ]
     },
     "execution_count": 12,
     "metadata": {},
     "output_type": "execute_result"
    }
   ],
   "source": [
    "our_first_series.index"
   ]
  },
  {
   "cell_type": "markdown",
   "metadata": {},
   "source": [
    "Notice that it automatically assigned a RangeIndex to it! What if we want to access the first ten values of that index? We can do as follows:"
   ]
  },
  {
   "cell_type": "code",
   "execution_count": 13,
   "metadata": {},
   "outputs": [
    {
     "data": {
      "text/plain": [
       "[0, 1, 2, 3, 4, 5, 6, 7, 8, 9]"
      ]
     },
     "execution_count": 13,
     "metadata": {},
     "output_type": "execute_result"
    }
   ],
   "source": [
    "our_first_series.index.tolist()[:10]"
   ]
  },
  {
   "cell_type": "markdown",
   "metadata": {},
   "source": [
    "Now type Series( and hold the shift button, and double press the tab button. You should see the docstrings in there, where you can find all the parameters or arguments, as well as the output and examples of how that Object or Class, function or module works."
   ]
  },
  {
   "cell_type": "code",
   "execution_count": 14,
   "metadata": {},
   "outputs": [
    {
     "ename": "SyntaxError",
     "evalue": "unexpected EOF while parsing (91578791.py, line 1)",
     "output_type": "error",
     "traceback": [
      "\u001b[0;36m  File \u001b[0;32m\"/tmp/ipykernel_71873/91578791.py\"\u001b[0;36m, line \u001b[0;32m1\u001b[0m\n\u001b[0;31m    Series(\u001b[0m\n\u001b[0m           ^\u001b[0m\n\u001b[0;31mSyntaxError\u001b[0m\u001b[0;31m:\u001b[0m unexpected EOF while parsing\n"
     ]
    }
   ],
   "source": [
    "Series("
   ]
  },
  {
   "cell_type": "markdown",
   "metadata": {},
   "source": [
    "The best thing about this, is that you can use it for any functions or classes"
   ]
  },
  {
   "cell_type": "markdown",
   "metadata": {},
   "source": [
    "### Exercise 1: \n",
    "\n",
    "Now that you already know how to create a Series, now go ahead and let's make a slightly harder one.\n",
    "\n",
    "Create a Series that has:\n",
    "    - An index from -100 to 100, with steps of 5, e.g. -100, -95, -90, ..., 95, 100.\n",
    "    - Values from 1000 to 0, with steps on -25, e.g. 1000, 975, ..., 25, 0.\n",
    "    - Sequenc3 as a name."
   ]
  },
  {
   "cell_type": "code",
   "execution_count": null,
   "metadata": {},
   "outputs": [],
   "source": []
  },
  {
   "cell_type": "markdown",
   "metadata": {},
   "source": [
    "Now that we know how Series work, we can now move to DataFrames. Essentially, DataFrames are Series combined, so a DataFrame is two or more columns or vectors combined. Let's make a simple example, let's create a list of lists, that contains vectors from 1 to 10."
   ]
  },
  {
   "cell_type": "code",
   "execution_count": null,
   "metadata": {},
   "outputs": [],
   "source": [
    "[[i for i in range(1, 10)] for j in range(1, 10)]"
   ]
  },
  {
   "cell_type": "markdown",
   "metadata": {},
   "source": [
    "Now that we have this, we assign to a variable and pass it as a DataFrame:"
   ]
  },
  {
   "cell_type": "code",
   "execution_count": null,
   "metadata": {},
   "outputs": [],
   "source": [
    "simple_df = [[i for i in range(1, 10)] for j in range(1, 10)]"
   ]
  },
  {
   "cell_type": "code",
   "execution_count": null,
   "metadata": {},
   "outputs": [],
   "source": [
    "from pandas import DataFrame\n",
    "\n",
    "DataFrame(simple_df)"
   ]
  },
  {
   "cell_type": "markdown",
   "metadata": {},
   "source": [
    "Notice that the first column on the left is still an index, and that all columns (From 0 to 8) have the same index. That's a DataFrame. Now time for an exercise:"
   ]
  },
  {
   "cell_type": "markdown",
   "metadata": {},
   "source": [
    "### Exercise 2:\n",
    "\n",
    "Create a Dataframe from the simple_df list of lists with:\n",
    "    - Column names from 'a' to 'i', e.g., 'a','b','c','d','e','f','g','h', 'i'.\n",
    "    - Row indices from 'j' to 'q', e.g., 'j','k','l','m','n','o','p','q', 'r'.\n",
    "    - Assign it into a variable called letters_names_dataframe.\n"
   ]
  },
  {
   "cell_type": "code",
   "execution_count": null,
   "metadata": {},
   "outputs": [],
   "source": []
  },
  {
   "cell_type": "code",
   "execution_count": null,
   "metadata": {},
   "outputs": [],
   "source": [
    "letters_names_df = DataFrame(simple_df,\n",
    "                             columns=['a','b','c','d','e','f','g','h', 'i'],\n",
    "                             index=['j','k','l','m','n','o','p','q', 'r'])"
   ]
  },
  {
   "cell_type": "markdown",
   "metadata": {},
   "source": [
    "### Exercise 2 part 2:\n",
    "\n",
    "Now try deleting columns 'c' and 'g', with the module `drop()` from the `DataFrame` class, and rows 'p' and 'q'."
   ]
  },
  {
   "cell_type": "code",
   "execution_count": null,
   "metadata": {},
   "outputs": [],
   "source": [
    "letters_names_df.drop(columns=['c','g']).drop(['p','q'])"
   ]
  },
  {
   "cell_type": "markdown",
   "metadata": {},
   "source": [
    "Great! Now you have a basic notion of what DataFrames and Series do and work. Now it's time to go and plot some of it."
   ]
  },
  {
   "cell_type": "markdown",
   "metadata": {},
   "source": [
    "To create our first plots, we will use the `sin` function from the *numpy* package."
   ]
  },
  {
   "cell_type": "code",
   "execution_count": null,
   "metadata": {},
   "outputs": [],
   "source": [
    "from numpy import sin\n",
    "\n",
    "sin_series = DataFrame([sin(i) for i in range(100)], \n",
    "                    index=range(100),\n",
    "                    columns=['sin'])"
   ]
  },
  {
   "cell_type": "code",
   "execution_count": null,
   "metadata": {},
   "outputs": [],
   "source": [
    "sin_series.head()"
   ]
  },
  {
   "cell_type": "markdown",
   "metadata": {},
   "source": [
    "Then it is as simple as follows:"
   ]
  },
  {
   "cell_type": "code",
   "execution_count": null,
   "metadata": {
    "scrolled": true
   },
   "outputs": [],
   "source": [
    "import matplotlib.pyplot as plt"
   ]
  },
  {
   "cell_type": "code",
   "execution_count": null,
   "metadata": {},
   "outputs": [],
   "source": [
    "plt.plot(sin_series)"
   ]
  },
  {
   "cell_type": "markdown",
   "metadata": {},
   "source": [
    "Now that doesn't look too good does it? Let's try to improve it slightly by making it bigger, giving it a better color, and giving it a title.\n",
    "\n",
    "When we create a new figure, we can do so by executing:\n",
    "\n",
    "`fig, ax = plt.subplots(figsize=(12, 8)`\n",
    "\n",
    "which will create the frame for our plot. The figsize tuple parameter will state its width and height. Try playing and changing that and see what happens.\n",
    "\n",
    "Besides that, there is the `color` parameter, where we can select the desired color. See this list where you can find all the parameters accepted in Matplotlib. []()\n",
    "\n",
    "Lastly, the `plt.title('TITLEDESIRED')` let's us put a title on the Figure."
   ]
  },
  {
   "cell_type": "code",
   "execution_count": null,
   "metadata": {},
   "outputs": [],
   "source": [
    "fig, ax = plt.subplots(figsize=(12, 8))\n",
    "plt.plot(sin_series, color='darkred')\n",
    "plt.title('Sinusoidal function')\n",
    "plt.show()"
   ]
  },
  {
   "cell_type": "markdown",
   "metadata": {},
   "source": [
    "This doesn't look really smooth, so we want to have more points on the x-axis. One way to do this is by create a sequence with more points (instead of only using integers). We will use the *numpy* `linspace` function for that:"
   ]
  },
  {
   "cell_type": "code",
   "execution_count": null,
   "metadata": {},
   "outputs": [],
   "source": [
    "from numpy import linspace\n",
    "\n",
    "sin_series = DataFrame([sin(i) for i in linspace(1, 100, 1000)], \n",
    "                    index=linspace(1, 100, 1000),\n",
    "                    columns=['sin'])"
   ]
  },
  {
   "cell_type": "code",
   "execution_count": null,
   "metadata": {},
   "outputs": [],
   "source": [
    "sin_series.head()"
   ]
  },
  {
   "cell_type": "code",
   "execution_count": null,
   "metadata": {},
   "outputs": [],
   "source": [
    "sin_series.tail()"
   ]
  },
  {
   "cell_type": "markdown",
   "metadata": {},
   "source": [
    "Now we try that again:"
   ]
  },
  {
   "cell_type": "code",
   "execution_count": null,
   "metadata": {},
   "outputs": [],
   "source": [
    "fig, ax = plt.subplots(figsize=(12, 8))\n",
    "plt.plot(sin_series, color='darkred')\n",
    "plt.title('Sinusoidal function')\n",
    "plt.show()"
   ]
  },
  {
   "cell_type": "markdown",
   "metadata": {},
   "source": [
    "Now that already looks a bit better. How else we can improve it? By adjusting the x and y limits and giving it a grid so that one can follow the x-y coordinates"
   ]
  },
  {
   "cell_type": "code",
   "execution_count": null,
   "metadata": {},
   "outputs": [],
   "source": [
    "fig, ax = plt.subplots(figsize=(12, 8))\n",
    "plt.plot(sin_series, color='darkred', alpha=.8)\n",
    "plt.title('Sinusoidal function')\n",
    "plt.xlim([0, 100])\n",
    "plt.ylim([-1.1, 1.1])\n",
    "plt.grid(alpha=.5)\n",
    "plt.show()"
   ]
  },
  {
   "cell_type": "markdown",
   "metadata": {},
   "source": [
    "## Exercise 3:\n",
    "\n",
    "Create the above plot now using the `np.cos` function:"
   ]
  },
  {
   "cell_type": "code",
   "execution_count": null,
   "metadata": {},
   "outputs": [],
   "source": [
    "from numpy import cos\n"
   ]
  },
  {
   "cell_type": "markdown",
   "metadata": {},
   "source": [
    "Congratulations! You have successfully completed your first class on this short course on Python and Data Visualization. If you were able to follow the above with relative ease, you can do the following problems that will be more challenging to you!"
   ]
  },
  {
   "cell_type": "markdown",
   "metadata": {},
   "source": [
    "# Harder Exercises:\n",
    "\n",
    "In case you already had seen all of the above, here are some challenging exercises that will keep you busy! ;)\n",
    "\n",
    "The exercises were extracted from: \n",
    "\n",
    "https://www.w3resource.com/python-exercises/pandas/string/index.php"
   ]
  },
  {
   "cell_type": "markdown",
   "metadata": {},
   "source": [
    "#### 1: Write a Pandas program to convert a Panda module Series to Python list"
   ]
  },
  {
   "cell_type": "code",
   "execution_count": null,
   "metadata": {
    "scrolled": true
   },
   "outputs": [],
   "source": [
    "Series(range(1000, -1, -25),\n",
    "       index=list(range(-100, 101, 5)),\n",
    "       name='Sequenc3')"
   ]
  },
  {
   "cell_type": "markdown",
   "metadata": {},
   "source": [
    "#### 2: Write a Pandas program to get the powers of an array values element-wise."
   ]
  },
  {
   "cell_type": "code",
   "execution_count": null,
   "metadata": {},
   "outputs": [],
   "source": [
    "DataFrame({'X':[78,85,96,80,86], 'Y':[84,94,89,83,86],'Z':[86,97,96,72,83]})"
   ]
  },
  {
   "cell_type": "markdown",
   "metadata": {},
   "source": [
    "#### 3: Write a Pandas program to select the rows the score is between 15 and 20 (inclusive)."
   ]
  },
  {
   "cell_type": "code",
   "execution_count": null,
   "metadata": {},
   "outputs": [],
   "source": [
    "from numpy import nan\n",
    "\n",
    "exam_data = {'name': ['Anastasia', 'Dima', 'Katherine', 'James', 'Emily', 'Michael', 'Matthew', 'Laura', 'Kevin', 'Jonas'],\n",
    "'score': [12.5, 9, 16.5, nan, 9, 20, 14.5, nan, 8, 19],\n",
    "'attempts': [1, 3, 2, 3, 2, 3, 1, 1, 2, 1],\n",
    "'qualify': ['yes', 'no', 'yes', 'no', 'no', 'yes', 'yes', 'no', 'no', 'yes']}\n",
    "\n",
    "labels = ['a', 'b', 'c', 'd', 'e', 'f', 'g', 'h', 'i', 'j']\n",
    "DataFrame(exam_data, index=labels)"
   ]
  },
  {
   "cell_type": "markdown",
   "metadata": {},
   "source": [
    "#### 4: Write a Pandas program to delete the 'attempts' column from the same DataFrame from above. "
   ]
  },
  {
   "cell_type": "code",
   "execution_count": null,
   "metadata": {},
   "outputs": [],
   "source": []
  },
  {
   "cell_type": "markdown",
   "metadata": {},
   "source": [
    "#### 5: Write a Pandas program to count number of columns of a DataFrame."
   ]
  },
  {
   "cell_type": "code",
   "execution_count": null,
   "metadata": {},
   "outputs": [],
   "source": []
  },
  {
   "cell_type": "markdown",
   "metadata": {},
   "source": [
    "#### 6: Write a Pandas program to remove last n rows of a given DataFrame."
   ]
  },
  {
   "cell_type": "code",
   "execution_count": null,
   "metadata": {},
   "outputs": [],
   "source": []
  },
  {
   "cell_type": "markdown",
   "metadata": {},
   "source": [
    "#### 7: Write a Pandas program to convert a specified character column in upper/lower cases in a given DataFrame."
   ]
  },
  {
   "cell_type": "code",
   "execution_count": null,
   "metadata": {},
   "outputs": [],
   "source": []
  },
  {
   "cell_type": "markdown",
   "metadata": {},
   "source": [
    "#### 8: Write a Pandas program to check whether two given words present in a specified column of a given DataFrame."
   ]
  },
  {
   "cell_type": "code",
   "execution_count": null,
   "metadata": {},
   "outputs": [],
   "source": []
  },
  {
   "cell_type": "markdown",
   "metadata": {},
   "source": [
    "#### 9: Write a Pandas program to group by buyer and sum the amounts spent."
   ]
  },
  {
   "cell_type": "code",
   "execution_count": null,
   "metadata": {},
   "outputs": [],
   "source": [
    "data = {'product_name': ['laptop', 'printer', 'tablet', 'desk', 'chair'],\n",
    "        'price': [1200, 150, 300, 450, 200],\n",
    "        'buyer': ['Joseph', 'Brian', 'Willy', 'Joseph', 'Marta']\n",
    "        }\n",
    "\n",
    "DataFrame(data)"
   ]
  },
  {
   "cell_type": "code",
   "execution_count": null,
   "metadata": {},
   "outputs": [],
   "source": []
  },
  {
   "cell_type": "markdown",
   "metadata": {},
   "source": [
    "#### 10: Write a Pandas program to convert all columns with strings to upper case."
   ]
  },
  {
   "cell_type": "code",
   "execution_count": null,
   "metadata": {},
   "outputs": [],
   "source": []
  },
  {
   "cell_type": "markdown",
   "metadata": {},
   "source": [
    "#### 11: Write a Pandas program to convert all columns with strings to lower case."
   ]
  },
  {
   "cell_type": "code",
   "execution_count": null,
   "metadata": {},
   "outputs": [],
   "source": []
  },
  {
   "cell_type": "markdown",
   "metadata": {},
   "source": [
    "#### 12: Write a Pandas program to select only numeric variables."
   ]
  },
  {
   "cell_type": "code",
   "execution_count": null,
   "metadata": {},
   "outputs": [],
   "source": []
  },
  {
   "cell_type": "markdown",
   "metadata": {},
   "source": [
    "----"
   ]
  }
 ],
 "metadata": {
  "interpreter": {
   "hash": "916dbcbb3f70747c44a77c7bcd40155683ae19c65e1c03b4aa3499c5328201f1"
  },
  "kernelspec": {
   "display_name": "Python 3.8.10 64-bit",
   "name": "python3"
  },
  "language_info": {
   "codemirror_mode": {
    "name": "ipython",
    "version": 3
   },
   "file_extension": ".py",
   "mimetype": "text/x-python",
   "name": "python",
   "nbconvert_exporter": "python",
   "pygments_lexer": "ipython3",
   "version": "3.8.10"
  }
 },
 "nbformat": 4,
 "nbformat_minor": 2
}
